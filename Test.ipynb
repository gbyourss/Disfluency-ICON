{
  "nbformat": 4,
  "nbformat_minor": 0,
  "metadata": {
    "colab": {
      "provenance": [],
      "collapsed_sections": [
        "PGJEYGG_LV1m",
        "z77waVu2-7wO"
      ]
    },
    "kernelspec": {
      "name": "python3",
      "display_name": "Python 3"
    },
    "language_info": {
      "name": "python"
    },
    "widgets": {
      "application/vnd.jupyter.widget-state+json": {
        "745bfde6674642398b1103e632f3e4ea": {
          "model_module": "@jupyter-widgets/controls",
          "model_name": "HBoxModel",
          "model_module_version": "1.5.0",
          "state": {
            "_dom_classes": [],
            "_model_module": "@jupyter-widgets/controls",
            "_model_module_version": "1.5.0",
            "_model_name": "HBoxModel",
            "_view_count": null,
            "_view_module": "@jupyter-widgets/controls",
            "_view_module_version": "1.5.0",
            "_view_name": "HBoxView",
            "box_style": "",
            "children": [
              "IPY_MODEL_9380f6af44ac45a2b572174718437990",
              "IPY_MODEL_91ec82c762304e35a1b5ca852287c9c7",
              "IPY_MODEL_fa079d121758400cbb0771ae378509eb"
            ],
            "layout": "IPY_MODEL_5c1857bd7451400bbabe4396dd08c469"
          }
        },
        "9380f6af44ac45a2b572174718437990": {
          "model_module": "@jupyter-widgets/controls",
          "model_name": "HTMLModel",
          "model_module_version": "1.5.0",
          "state": {
            "_dom_classes": [],
            "_model_module": "@jupyter-widgets/controls",
            "_model_module_version": "1.5.0",
            "_model_name": "HTMLModel",
            "_view_count": null,
            "_view_module": "@jupyter-widgets/controls",
            "_view_module_version": "1.5.0",
            "_view_name": "HTMLView",
            "description": "",
            "description_tooltip": null,
            "layout": "IPY_MODEL_20b04c56e590486cb02f752a75988278",
            "placeholder": "​",
            "style": "IPY_MODEL_6feb5716862f4a09839cfc9894b8b3dc",
            "value": "Map: 100%"
          }
        },
        "91ec82c762304e35a1b5ca852287c9c7": {
          "model_module": "@jupyter-widgets/controls",
          "model_name": "FloatProgressModel",
          "model_module_version": "1.5.0",
          "state": {
            "_dom_classes": [],
            "_model_module": "@jupyter-widgets/controls",
            "_model_module_version": "1.5.0",
            "_model_name": "FloatProgressModel",
            "_view_count": null,
            "_view_module": "@jupyter-widgets/controls",
            "_view_module_version": "1.5.0",
            "_view_name": "ProgressView",
            "bar_style": "success",
            "description": "",
            "description_tooltip": null,
            "layout": "IPY_MODEL_2d5c6fd1ec62445dbbac2e0a68f1ac65",
            "max": 191,
            "min": 0,
            "orientation": "horizontal",
            "style": "IPY_MODEL_19963855fbfd4ef8b2c346e1ce2e6cc3",
            "value": 191
          }
        },
        "fa079d121758400cbb0771ae378509eb": {
          "model_module": "@jupyter-widgets/controls",
          "model_name": "HTMLModel",
          "model_module_version": "1.5.0",
          "state": {
            "_dom_classes": [],
            "_model_module": "@jupyter-widgets/controls",
            "_model_module_version": "1.5.0",
            "_model_name": "HTMLModel",
            "_view_count": null,
            "_view_module": "@jupyter-widgets/controls",
            "_view_module_version": "1.5.0",
            "_view_name": "HTMLView",
            "description": "",
            "description_tooltip": null,
            "layout": "IPY_MODEL_c9d200273fe0473eba6767e6cb6f069d",
            "placeholder": "​",
            "style": "IPY_MODEL_cce3c68db5cc4df7adf128f3785d4766",
            "value": " 191/191 [00:01&lt;00:00, 171.85 examples/s]"
          }
        },
        "5c1857bd7451400bbabe4396dd08c469": {
          "model_module": "@jupyter-widgets/base",
          "model_name": "LayoutModel",
          "model_module_version": "1.2.0",
          "state": {
            "_model_module": "@jupyter-widgets/base",
            "_model_module_version": "1.2.0",
            "_model_name": "LayoutModel",
            "_view_count": null,
            "_view_module": "@jupyter-widgets/base",
            "_view_module_version": "1.2.0",
            "_view_name": "LayoutView",
            "align_content": null,
            "align_items": null,
            "align_self": null,
            "border": null,
            "bottom": null,
            "display": null,
            "flex": null,
            "flex_flow": null,
            "grid_area": null,
            "grid_auto_columns": null,
            "grid_auto_flow": null,
            "grid_auto_rows": null,
            "grid_column": null,
            "grid_gap": null,
            "grid_row": null,
            "grid_template_areas": null,
            "grid_template_columns": null,
            "grid_template_rows": null,
            "height": null,
            "justify_content": null,
            "justify_items": null,
            "left": null,
            "margin": null,
            "max_height": null,
            "max_width": null,
            "min_height": null,
            "min_width": null,
            "object_fit": null,
            "object_position": null,
            "order": null,
            "overflow": null,
            "overflow_x": null,
            "overflow_y": null,
            "padding": null,
            "right": null,
            "top": null,
            "visibility": null,
            "width": null
          }
        },
        "20b04c56e590486cb02f752a75988278": {
          "model_module": "@jupyter-widgets/base",
          "model_name": "LayoutModel",
          "model_module_version": "1.2.0",
          "state": {
            "_model_module": "@jupyter-widgets/base",
            "_model_module_version": "1.2.0",
            "_model_name": "LayoutModel",
            "_view_count": null,
            "_view_module": "@jupyter-widgets/base",
            "_view_module_version": "1.2.0",
            "_view_name": "LayoutView",
            "align_content": null,
            "align_items": null,
            "align_self": null,
            "border": null,
            "bottom": null,
            "display": null,
            "flex": null,
            "flex_flow": null,
            "grid_area": null,
            "grid_auto_columns": null,
            "grid_auto_flow": null,
            "grid_auto_rows": null,
            "grid_column": null,
            "grid_gap": null,
            "grid_row": null,
            "grid_template_areas": null,
            "grid_template_columns": null,
            "grid_template_rows": null,
            "height": null,
            "justify_content": null,
            "justify_items": null,
            "left": null,
            "margin": null,
            "max_height": null,
            "max_width": null,
            "min_height": null,
            "min_width": null,
            "object_fit": null,
            "object_position": null,
            "order": null,
            "overflow": null,
            "overflow_x": null,
            "overflow_y": null,
            "padding": null,
            "right": null,
            "top": null,
            "visibility": null,
            "width": null
          }
        },
        "6feb5716862f4a09839cfc9894b8b3dc": {
          "model_module": "@jupyter-widgets/controls",
          "model_name": "DescriptionStyleModel",
          "model_module_version": "1.5.0",
          "state": {
            "_model_module": "@jupyter-widgets/controls",
            "_model_module_version": "1.5.0",
            "_model_name": "DescriptionStyleModel",
            "_view_count": null,
            "_view_module": "@jupyter-widgets/base",
            "_view_module_version": "1.2.0",
            "_view_name": "StyleView",
            "description_width": ""
          }
        },
        "2d5c6fd1ec62445dbbac2e0a68f1ac65": {
          "model_module": "@jupyter-widgets/base",
          "model_name": "LayoutModel",
          "model_module_version": "1.2.0",
          "state": {
            "_model_module": "@jupyter-widgets/base",
            "_model_module_version": "1.2.0",
            "_model_name": "LayoutModel",
            "_view_count": null,
            "_view_module": "@jupyter-widgets/base",
            "_view_module_version": "1.2.0",
            "_view_name": "LayoutView",
            "align_content": null,
            "align_items": null,
            "align_self": null,
            "border": null,
            "bottom": null,
            "display": null,
            "flex": null,
            "flex_flow": null,
            "grid_area": null,
            "grid_auto_columns": null,
            "grid_auto_flow": null,
            "grid_auto_rows": null,
            "grid_column": null,
            "grid_gap": null,
            "grid_row": null,
            "grid_template_areas": null,
            "grid_template_columns": null,
            "grid_template_rows": null,
            "height": null,
            "justify_content": null,
            "justify_items": null,
            "left": null,
            "margin": null,
            "max_height": null,
            "max_width": null,
            "min_height": null,
            "min_width": null,
            "object_fit": null,
            "object_position": null,
            "order": null,
            "overflow": null,
            "overflow_x": null,
            "overflow_y": null,
            "padding": null,
            "right": null,
            "top": null,
            "visibility": null,
            "width": null
          }
        },
        "19963855fbfd4ef8b2c346e1ce2e6cc3": {
          "model_module": "@jupyter-widgets/controls",
          "model_name": "ProgressStyleModel",
          "model_module_version": "1.5.0",
          "state": {
            "_model_module": "@jupyter-widgets/controls",
            "_model_module_version": "1.5.0",
            "_model_name": "ProgressStyleModel",
            "_view_count": null,
            "_view_module": "@jupyter-widgets/base",
            "_view_module_version": "1.2.0",
            "_view_name": "StyleView",
            "bar_color": null,
            "description_width": ""
          }
        },
        "c9d200273fe0473eba6767e6cb6f069d": {
          "model_module": "@jupyter-widgets/base",
          "model_name": "LayoutModel",
          "model_module_version": "1.2.0",
          "state": {
            "_model_module": "@jupyter-widgets/base",
            "_model_module_version": "1.2.0",
            "_model_name": "LayoutModel",
            "_view_count": null,
            "_view_module": "@jupyter-widgets/base",
            "_view_module_version": "1.2.0",
            "_view_name": "LayoutView",
            "align_content": null,
            "align_items": null,
            "align_self": null,
            "border": null,
            "bottom": null,
            "display": null,
            "flex": null,
            "flex_flow": null,
            "grid_area": null,
            "grid_auto_columns": null,
            "grid_auto_flow": null,
            "grid_auto_rows": null,
            "grid_column": null,
            "grid_gap": null,
            "grid_row": null,
            "grid_template_areas": null,
            "grid_template_columns": null,
            "grid_template_rows": null,
            "height": null,
            "justify_content": null,
            "justify_items": null,
            "left": null,
            "margin": null,
            "max_height": null,
            "max_width": null,
            "min_height": null,
            "min_width": null,
            "object_fit": null,
            "object_position": null,
            "order": null,
            "overflow": null,
            "overflow_x": null,
            "overflow_y": null,
            "padding": null,
            "right": null,
            "top": null,
            "visibility": null,
            "width": null
          }
        },
        "cce3c68db5cc4df7adf128f3785d4766": {
          "model_module": "@jupyter-widgets/controls",
          "model_name": "DescriptionStyleModel",
          "model_module_version": "1.5.0",
          "state": {
            "_model_module": "@jupyter-widgets/controls",
            "_model_module_version": "1.5.0",
            "_model_name": "DescriptionStyleModel",
            "_view_count": null,
            "_view_module": "@jupyter-widgets/base",
            "_view_module_version": "1.2.0",
            "_view_name": "StyleView",
            "description_width": ""
          }
        }
      }
    }
  },
  "cells": [
    {
      "cell_type": "code",
      "source": [
        "test_file='/content/drive/MyDrive/Disfluency Task/Training_Data_Split_50/marathi/marathi_test_blind_50.tsv'\n",
        "file_save_path='/content/sample_data/marathi_output.tsv'\n",
        "model_checkpoint = \"/content/drive/MyDrive/Disfluency Task/Model/Marathi-Bert\"\n",
        "batch_size = 16\n",
        "max_sequence_length = 256\n",
        "task = \"disfluency\"\n",
        "epochs = 5"
      ],
      "metadata": {
        "id": "KluFBWEN-2it"
      },
      "execution_count": 190,
      "outputs": []
    },
    {
      "cell_type": "markdown",
      "source": [
        "## Installation"
      ],
      "metadata": {
        "id": "GoufOwPT-eQl"
      }
    },
    {
      "cell_type": "code",
      "source": [
        "!pip install datasets\n",
        "!pip install transformers torch\n",
        "!pip install sentencepiece\n",
        "!pip install seqeval\n",
        "!pip install transformers torch\n",
        "!pip install sentencepiece\n",
        "!pip install accelerate -U\n",
        "!pip install transformers[torch]\n",
        "!pip install transformers[sentencepiece]\n",
        "!pip install scikit-learn"
      ],
      "metadata": {
        "id": "N6Ae7vGy-Zl9"
      },
      "execution_count": null,
      "outputs": []
    },
    {
      "cell_type": "markdown",
      "source": [
        "## Labels"
      ],
      "metadata": {
        "id": "PGJEYGG_LV1m"
      }
    },
    {
      "cell_type": "code",
      "source": [
        "label_list = [\n",
        "  'O',\n",
        "  'B-Alteration',\n",
        "\t'B-edit_R',\n",
        "\t'B-false_R',\n",
        "\t'B-filler_R',\n",
        "\t'B-pet_R',\n",
        "\t'B-repair_R',\n",
        "\t'B-repeat_R',\n",
        "  'I-Alteration',\n",
        "\t'I-edit_R',\n",
        "\t'I-false_R',\n",
        "\t'I-filler_R',\n",
        "\t'I-pet_R',\n",
        "\t'I-repair_R',\n",
        "\t'I-repeat_R'\n",
        "]\n",
        "\n",
        "label2id = {label: index for index, label in enumerate(label_list)}\n",
        "id2label = {index: label for index, label in enumerate(label_list)}"
      ],
      "metadata": {
        "id": "pu0t7v1XLVIH"
      },
      "execution_count": 191,
      "outputs": []
    },
    {
      "cell_type": "markdown",
      "source": [
        "## Load Data"
      ],
      "metadata": {
        "id": "z77waVu2-7wO"
      }
    },
    {
      "cell_type": "code",
      "source": [
        "from datasets import Dataset\n",
        "\n",
        "def read_file_to_dict_test(file_path):\n",
        "    data = {'word': []}\n",
        "    with open(file_path, 'r', encoding='utf-8') as file:\n",
        "        current_entry = {'word': []}\n",
        "        for line in file:\n",
        "            line = line.strip()\n",
        "            if not line:\n",
        "                if current_entry['word']:\n",
        "                    data['word'].append(current_entry['word'])\n",
        "                    current_entry = {'word': []}\n",
        "            else:\n",
        "                tokens = line.split('\\t')\n",
        "                current_entry['word'].append(tokens[0])\n",
        "        if current_entry['word']:\n",
        "            data['word'].append(current_entry['word'])\n",
        "    return data\n"
      ],
      "metadata": {
        "id": "Zkklf8ZLKPpv"
      },
      "execution_count": 192,
      "outputs": []
    },
    {
      "cell_type": "code",
      "source": [
        "test_dataset = Dataset.from_dict(read_file_to_dict_test(test_file))"
      ],
      "metadata": {
        "id": "bzwsq9bYK5O5"
      },
      "execution_count": 193,
      "outputs": []
    },
    {
      "cell_type": "code",
      "source": [
        "# Renaming Columns\n",
        "test_dataset = test_dataset.rename_column(\"word\", \"tokens\")"
      ],
      "metadata": {
        "id": "__Qr4AhtMQKW"
      },
      "execution_count": 194,
      "outputs": []
    },
    {
      "cell_type": "code",
      "source": [
        "test_dataset"
      ],
      "metadata": {
        "colab": {
          "base_uri": "https://localhost:8080/"
        },
        "id": "LcPsr9FRMonI",
        "outputId": "07114c1b-2d1b-486a-e4e7-5a401a38e51f"
      },
      "execution_count": 195,
      "outputs": [
        {
          "output_type": "execute_result",
          "data": {
            "text/plain": [
              "Dataset({\n",
              "    features: ['tokens'],\n",
              "    num_rows: 191\n",
              "})"
            ]
          },
          "metadata": {},
          "execution_count": 195
        }
      ]
    },
    {
      "cell_type": "markdown",
      "source": [
        "# Tokenization"
      ],
      "metadata": {
        "id": "E3rLenMAAwQS"
      }
    },
    {
      "cell_type": "code",
      "source": [
        "from transformers import pipeline, AutoModelForTokenClassification, TrainingArguments, AutoTokenizer\n",
        "\n",
        "model = AutoModelForTokenClassification.from_pretrained(model_checkpoint)\n",
        "tokenizer = AutoTokenizer.from_pretrained(model_checkpoint)"
      ],
      "metadata": {
        "id": "8Fet9NgbAz-V"
      },
      "execution_count": 196,
      "outputs": []
    },
    {
      "cell_type": "code",
      "source": [
        "args = TrainingArguments(\n",
        "    output_dir=f\"/content/sample_data/{task}-{model_checkpoint}\",\n",
        "    evaluation_strategy = \"epoch\",\n",
        "    learning_rate=2e-5,\n",
        "    per_device_train_batch_size=batch_size,\n",
        "    per_device_eval_batch_size=batch_size,\n",
        "    num_train_epochs=epochs,\n",
        "    weight_decay=0.01,\n",
        ")"
      ],
      "metadata": {
        "id": "wqhDl9XCM0gc"
      },
      "execution_count": 197,
      "outputs": []
    },
    {
      "cell_type": "code",
      "source": [
        "from transformers import DataCollatorForTokenClassification, Trainer\n",
        "\n",
        "data_collator = DataCollatorForTokenClassification(tokenizer)"
      ],
      "metadata": {
        "id": "lFteKfj2M_HA"
      },
      "execution_count": 198,
      "outputs": []
    },
    {
      "cell_type": "code",
      "source": [
        "trainer = Trainer(\n",
        "    model,\n",
        "    args,\n",
        "    data_collator=data_collator,\n",
        "    tokenizer=tokenizer,\n",
        ")"
      ],
      "metadata": {
        "id": "HwPH7tX8NLTX"
      },
      "execution_count": 199,
      "outputs": []
    },
    {
      "cell_type": "code",
      "source": [
        "def test_tokenize(examples):\n",
        "  return tokenizer(examples[\"tokens\"], is_split_into_words=True)\n",
        "\n",
        "tokenized_test = test_dataset.map(test_tokenize, batched=True)"
      ],
      "metadata": {
        "colab": {
          "base_uri": "https://localhost:8080/",
          "height": 49,
          "referenced_widgets": [
            "745bfde6674642398b1103e632f3e4ea",
            "9380f6af44ac45a2b572174718437990",
            "91ec82c762304e35a1b5ca852287c9c7",
            "fa079d121758400cbb0771ae378509eb",
            "5c1857bd7451400bbabe4396dd08c469",
            "20b04c56e590486cb02f752a75988278",
            "6feb5716862f4a09839cfc9894b8b3dc",
            "2d5c6fd1ec62445dbbac2e0a68f1ac65",
            "19963855fbfd4ef8b2c346e1ce2e6cc3",
            "c9d200273fe0473eba6767e6cb6f069d",
            "cce3c68db5cc4df7adf128f3785d4766"
          ]
        },
        "id": "Jm2Sfi6MNl-g",
        "outputId": "81a4321b-b0b5-496e-e33a-c781c4c2b2d2"
      },
      "execution_count": 200,
      "outputs": [
        {
          "output_type": "display_data",
          "data": {
            "text/plain": [
              "Map:   0%|          | 0/191 [00:00<?, ? examples/s]"
            ],
            "application/vnd.jupyter.widget-view+json": {
              "version_major": 2,
              "version_minor": 0,
              "model_id": "745bfde6674642398b1103e632f3e4ea"
            }
          },
          "metadata": {}
        }
      ]
    },
    {
      "cell_type": "code",
      "source": [
        "tokenized_test"
      ],
      "metadata": {
        "colab": {
          "base_uri": "https://localhost:8080/"
        },
        "id": "a2BaUcSQOuF9",
        "outputId": "5831f553-8690-4f5d-a58d-e3e473c7e91c"
      },
      "execution_count": 201,
      "outputs": [
        {
          "output_type": "execute_result",
          "data": {
            "text/plain": [
              "Dataset({\n",
              "    features: ['tokens', 'input_ids', 'token_type_ids', 'attention_mask'],\n",
              "    num_rows: 191\n",
              "})"
            ]
          },
          "metadata": {},
          "execution_count": 201
        }
      ]
    },
    {
      "cell_type": "code",
      "source": [
        "predictions, labels, _ = trainer.predict(tokenized_test)"
      ],
      "metadata": {
        "colab": {
          "base_uri": "https://localhost:8080/",
          "height": 55
        },
        "id": "geOKEl84PbnG",
        "outputId": "2a4fba00-fe6c-4e32-8066-d41604728eff"
      },
      "execution_count": 202,
      "outputs": [
        {
          "output_type": "stream",
          "name": "stderr",
          "text": [
            "You're using a BertTokenizerFast tokenizer. Please note that with a fast tokenizer, using the `__call__` method is faster than using a method to encode the text followed by a call to the `pad` method to get a padded encoding.\n"
          ]
        },
        {
          "output_type": "display_data",
          "data": {
            "text/plain": [
              "<IPython.core.display.HTML object>"
            ],
            "text/html": []
          },
          "metadata": {}
        }
      ]
    },
    {
      "cell_type": "code",
      "source": [
        "predictions"
      ],
      "metadata": {
        "id": "unhZLdFyPepk"
      },
      "execution_count": null,
      "outputs": []
    },
    {
      "cell_type": "markdown",
      "source": [
        "## Prediction"
      ],
      "metadata": {
        "id": "b7aJQ2OmXBoK"
      }
    },
    {
      "cell_type": "code",
      "source": [
        "import sklearn\n",
        "from sklearn.metrics import precision_recall_fscore_support, accuracy_score, confusion_matrix\n",
        "import numpy as np\n",
        "import pandas as pd"
      ],
      "metadata": {
        "id": "Z7TA9wfsU_fJ"
      },
      "execution_count": 204,
      "outputs": []
    },
    {
      "cell_type": "code",
      "source": [
        "ps = np.argmax(predictions, axis=2)"
      ],
      "metadata": {
        "id": "Ede7eWDvS2mE"
      },
      "execution_count": 205,
      "outputs": []
    },
    {
      "cell_type": "code",
      "source": [
        "true_predictions = [\n",
        "    [label_list[p] for p  in prediction]\n",
        "    for prediction in ps\n",
        "]"
      ],
      "metadata": {
        "id": "C5dLiDoIWpaX"
      },
      "execution_count": 206,
      "outputs": []
    },
    {
      "cell_type": "code",
      "source": [
        "tokensArr = []\n",
        "for ttData in tokenized_test['input_ids']:\n",
        "  tokensArr.append(tokenizer.convert_ids_to_tokens(ttData))"
      ],
      "metadata": {
        "id": "8MjuTwVMa_MR"
      },
      "execution_count": 207,
      "outputs": []
    },
    {
      "cell_type": "code",
      "source": [
        "def combine_tokens(predictions):\n",
        "    combined_result = []\n",
        "    current_word = \"\"\n",
        "    current_label = \"\"\n",
        "\n",
        "    for token, label in predictions:\n",
        "        if token.startswith(\"##\"):\n",
        "            current_word += token[2:]\n",
        "        else:\n",
        "            if current_word:\n",
        "              combined_result.append(f\"{current_word}\\t{current_label}\")\n",
        "              current_word = \"\"\n",
        "            current_word = token\n",
        "            current_label = label\n",
        "\n",
        "    if current_word:\n",
        "        combined_result.append(f\"{current_word}\\t{current_label}\")\n",
        "\n",
        "    return combined_result\n"
      ],
      "metadata": {
        "id": "ixeoRdSK6cxC"
      },
      "execution_count": 212,
      "outputs": []
    },
    {
      "cell_type": "code",
      "source": [
        "def remove_cls_sep(data):\n",
        "    new_data = []\n",
        "    for line in data:\n",
        "        if \"[CLS]\" not in line and \"[SEP]\" not in line:\n",
        "          new_data.append(line)\n",
        "    return new_data"
      ],
      "metadata": {
        "id": "l5kvXoG3-erM"
      },
      "execution_count": 213,
      "outputs": []
    },
    {
      "cell_type": "code",
      "source": [
        "# Tokens with tags\n",
        "arr = []\n",
        "for i in range(len(tokensArr)):\n",
        "  for (t, tp) in zip(tokensArr[i], true_predictions[i]):\n",
        "    arr.append((t, tp))\n",
        "\n",
        "with open(file_save_path, 'w') as f:\n",
        "  for line in remove_cls_sep(combine_tokens(arr)):\n",
        "    f.write(line + '\\n')\n"
      ],
      "metadata": {
        "id": "KhUyddb6gFwW"
      },
      "execution_count": 214,
      "outputs": []
    }
  ]
}